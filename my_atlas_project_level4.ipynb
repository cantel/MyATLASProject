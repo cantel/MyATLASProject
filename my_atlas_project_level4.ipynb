{
 "cells": [
  {
   "cell_type": "markdown",
   "metadata": {},
   "source": [
    "<CENTER>\n",
    "    <a href=\"http://opendata.atlas.cern\" class=\"icons\"><img src=\"../images/opendata-top-transblack.png\" style=\"width:40%\"></a>\n",
    "</CENTER>"
   ]
  },
  {
   "cell_type": "markdown",
   "metadata": {},
   "source": [
    "# A simple introduction to data analysis in ATLAS: Level 4\n",
    "Now you know how to apply cuts and fill histograms for two separate datasets. In **Level 4** we will learn to **reconstruct the mass of a parent particle** using the particles it decayed into and that were measured by the detector. This level steps it up: you figure out yourself how to compute the mass!"
   ]
  },
  {
   "cell_type": "markdown",
   "metadata": {},
   "source": [
    "First we import ROOT to read the files in the _.root_ data format.\n",
    "In order to activate the interactive visualisation of the histogram that is later created we can use the JSROOT magic activated in the second line."
   ]
  },
  {
   "cell_type": "code",
   "execution_count": 14,
   "metadata": {},
   "outputs": [],
   "source": [
    "import ROOT\n",
    "import math\n",
    "## %jsroot on"
   ]
  },
  {
   "cell_type": "markdown",
   "metadata": {},
   "source": [
    "Next we open two data file: one represents the \"signal\", the other the \"background\"."
   ]
  },
  {
   "cell_type": "code",
   "execution_count": 15,
   "metadata": {},
   "outputs": [
    {
     "name": "stdout",
     "output_type": "stream",
     "text": [
      "Opened signal file with name  http://opendata.atlas.cern/release/samples/MC/mc_147770.Zee.root\n",
      "Opened background file with name  http://opendata.atlas.cern/release/samples/MC/mc_105985.WW.root\n"
     ]
    }
   ],
   "source": [
    "signal_file = ROOT.TFile.Open(\"http://opendata.atlas.cern/release/samples/MC/mc_147770.Zee.root\")\n",
    "background_file = ROOT.TFile.Open(\"http://opendata.atlas.cern/release/samples/MC/mc_105985.WW.root\")\n",
    "#f = ROOT.TFile.Open(\"http://opendata.atlas.cern/release/samples/MC/mc_105987.WZ.root\")\n",
    "print \"Opened signal file with name \", signal_file.GetName()\n",
    "print \"Opened background file with name \", background_file.GetName()"
   ]
  },
  {
   "cell_type": "markdown",
   "metadata": {},
   "source": [
    "After the data is opened we create the canvas on which we we draw the final histogram."
   ]
  },
  {
   "cell_type": "code",
   "execution_count": 16,
   "metadata": {},
   "outputs": [
    {
     "name": "stderr",
     "output_type": "stream",
     "text": [
      "Warning in <TCanvas::Constructor>: Deleting canvas with same name: Canvas\n"
     ]
    }
   ],
   "source": [
    "canvas = ROOT.TCanvas(\"Canvas\",\"my canvas\",800,600)"
   ]
  },
  {
   "cell_type": "markdown",
   "metadata": {},
   "source": [
    "Now we define a \"signal\" tree and a \"background\" tree."
   ]
  },
  {
   "cell_type": "code",
   "execution_count": 17,
   "metadata": {},
   "outputs": [],
   "source": [
    "signal = signal_file.Get(\"mini\")\n",
    "background = background_file.Get(\"mini\")"
   ]
  },
  {
   "cell_type": "markdown",
   "metadata": {},
   "source": [
    "Now we define histograms in which to fill the reconstructed mass: one for signal and one for background events. The mass has units of GeV."
   ]
  },
  {
   "cell_type": "code",
   "execution_count": 18,
   "metadata": {},
   "outputs": [],
   "source": [
    "signal_hist_mass = ROOT.TH1F(\"signal mass\",\"reconstructed mass [MeV]\",30*1000,0,150*1000)\n",
    "background_hist_mass = ROOT.TH1F(\"background mass\",\"reconstructed mass [MeV]}\",30*1000,0,150*1000)"
   ]
  },
  {
   "cell_type": "markdown",
   "metadata": {},
   "source": [
    "Now we loop through the events in each dataset and apply basic cuts. Remember, if you want to loop through _all_ events, then _comment out_ the line that contains the word **break** in it by inserting a hash (#) at the beginning of that line.\n",
    "The cuts are again tailored to select Z->ee or Z->mumu events. That is, we want:\n",
    "1. At least 2 leptons in the event.\n",
    "2. The first 2 leptons are of the same family.\n",
    "3. The first 2 leptons have opposite charges.\n",
    "We start with signal events.\n",
    "\n",
    "This time we want to calculate the mass of the parent particle based on the two most energetic leptons in the event and fill this value into the histogram.\n",
    "\n",
    "It is up to you to find the formula that allows you to calculate the mass. Hints:\n",
    "* Remember the only variables you have available in your file are {http://opendata.atlas.cern/books/current/openatlasdatatools/_book/variable_names.html}.\n",
    "* Children particles can be assumed to be massless."
   ]
  },
  {
   "cell_type": "code",
   "execution_count": 19,
   "metadata": {},
   "outputs": [
    {
     "name": "stdout",
     "output_type": "stream",
     "text": [
      "number of total signal events to loop over:  7500000\n",
      "at event number  0\n",
      "Done!\n",
      "looped over  1000000  signal events.\n"
     ]
    }
   ],
   "source": [
    "#signal\n",
    "print \"number of total signal events to loop over: \", signal.GetEntries()\n",
    "\n",
    "count = 0\n",
    "for i in range(signal.GetEntries()):\n",
    "    if i >= 1000000: break # use this line to test the loop: this line will make the loop run only over the first 1 million events.\n",
    "    if i%1000000 == 0: print \"at event number \", i # this is so we know where we are as the loop can take a while to execute.\n",
    "    signal.GetEntry(i)\n",
    "    count += 1\n",
    "    \n",
    "    #1st cut\n",
    "    if signal.lep_n >= 2:\n",
    "        # 2nd cut\n",
    "        if signal.lep_type[0] == signal.lep_type[1]:\n",
    "            #3rd cut\n",
    "            if not signal.lep_charge[0] == signal.lep_charge[1]:\n",
    "                # now it is up to you to calculate the mass of the parent particle the two leptons might have come from.\n",
    "                mass = 0\n",
    "                signal_hist_mass.Fill(mass)\n",
    "    \n",
    "print \"Done!\"\n",
    "print \"looped over \", count, \" signal events.\""
   ]
  },
  {
   "cell_type": "code",
   "execution_count": 20,
   "metadata": {},
   "outputs": [
    {
     "name": "stdout",
     "output_type": "stream",
     "text": [
      "number of total background events to loop over:  500000\n",
      "at event number  0\n",
      "Done!\n",
      "looped over  500000  background events.\n"
     ]
    }
   ],
   "source": [
    "#background\n",
    "print \"number of total background events to loop over: \", background.GetEntries()\n",
    "\n",
    "count = 0\n",
    "for i in range(background.GetEntries()):\n",
    "    if i >= 1000000: break # use this line to test the loop: this line will make the loop run only over the first 1 million events.\n",
    "    if i%1000000 == 0: print \"at event number \", i # this is so we know where we are as the loop can take a while to execute.\n",
    "    background.GetEntry(i)\n",
    "    count += 1\n",
    "    \n",
    "    #1st cut\n",
    "    if background.lep_n >= 2:\n",
    "        # 2nd cut\n",
    "        if background.lep_type[0] == background.lep_type[1]:\n",
    "            #3rd cut\n",
    "            if not background.lep_charge[0] == background.lep_charge[1]:\n",
    "                # now it is up to you to calculate the mass of the parent particle the two leptons might have come from.\n",
    "                mass = 0\n",
    "                background_hist_mass.Fill(mass)\n",
    "    \n",
    "print \"Done!\"\n",
    "print \"looped over \", count, \" background events.\""
   ]
  },
  {
   "cell_type": "markdown",
   "metadata": {},
   "source": [
    "Now we colour and draw the histograms.\n",
    "If the calculations have been done right, then the histogram should _peak_ around the mass of the Z boson in the signal events, that is, around 91 GeV. "
   ]
  },
  {
   "cell_type": "code",
   "execution_count": 21,
   "metadata": {},
   "outputs": [],
   "source": [
    "#signal is red\n",
    "signal_hist_mass.SetLineColor(ROOT.kRed)\n",
    "signal_hist_mass.SetLineWidth(2) # making line thicker so we can see it better\n",
    "signal_hist_mass.Draw()\n",
    "#background is blue\n",
    "background_hist_mass.SetLineColor(ROOT.kBlue)\n",
    "background_hist_mass.SetLineWidth(2) # making line thicker so we can see it better\n",
    "background_hist_mass.Draw(\"SAME\")"
   ]
  },
  {
   "cell_type": "code",
   "execution_count": 22,
   "metadata": {
    "scrolled": false
   },
   "outputs": [
    {
     "data": {
      "image/png": "[encoded data removed]",
      "text/plain": [
       "<IPython.core.display.Image object>"
      ]
     },
     "metadata": {},
     "output_type": "display_data"
    }
   ],
   "source": [
    "canvas.Draw()"
   ]
  },
  {
   "cell_type": "markdown",
   "metadata": {},
   "source": [
    "Here, again, we scale the histograms to get fractional entries."
   ]
  },
  {
   "cell_type": "code",
   "execution_count": 23,
   "metadata": {},
   "outputs": [],
   "source": [
    "#signal\n",
    "scale = signal_hist_mass.Integral()\n",
    "signal_hist_mass.Scale(1/scale)\n",
    "#background\n",
    "scale = background_hist_mass.Integral()\n",
    "background_hist_mass.Scale(1/scale)"
   ]
  },
  {
   "cell_type": "code",
   "execution_count": 24,
   "metadata": {},
   "outputs": [],
   "source": [
    "#signal\n",
    "signal_hist_mass.Draw()\n",
    "#background\n",
    "background_hist_mass.Draw(\"SAME\")"
   ]
  },
  {
   "cell_type": "code",
   "execution_count": 25,
   "metadata": {},
   "outputs": [
    {
     "data": {
      "image/png": "[encoded data removed]",
      "text/plain": [
       "<IPython.core.display.Image object>"
      ]
     },
     "metadata": {},
     "output_type": "display_data"
    }
   ],
   "source": [
    "canvas.Draw()"
   ]
  },
  {
   "cell_type": "code",
   "execution_count": null,
   "metadata": {},
   "outputs": [],
   "source": []
  }
 ],
 "metadata": {
  "kernelspec": {
   "display_name": "Python 2",
   "language": "python",
   "name": "python2"
  },
  "language_info": {
   "codemirror_mode": {
    "name": "ipython",
    "version": 2
   },
   "file_extension": ".py",
   "mimetype": "text/x-python",
   "name": "python",
   "nbconvert_exporter": "python",
   "pygments_lexer": "ipython2",
   "version": "2.7.15"
  }
 },
 "nbformat": 4,
 "nbformat_minor": 2
}
