{
 "cells": [
  {
   "cell_type": "markdown",
   "metadata": {},
   "source": [
    "<CENTER>\n",
    "    <a href=\"http://opendata.atlas.cern\" class=\"icons\"><img src=\"../images/opendata-top-transblack.png\" style=\"width:40%\"></a>\n",
    "</CENTER>"
   ]
  },
  {
   "cell_type": "markdown",
   "metadata": {},
   "source": [
    "# A simple introduction to data analysis in ATLAS: Level 2\n",
    "Now you know how to create and fill histograms from variables in a root file. **Level 2** is to select events based on what is in the event and ignore all other events. We call this **applying cuts**."
   ]
  },
  {
   "cell_type": "markdown",
   "metadata": {},
   "source": [
    "First we import ROOT to read the files in the _.root_ data format.\n",
    "In order to activate the interactive visualisation of the histogram that is later created we can use the JSROOT magic activated in the second line."
   ]
  },
  {
   "cell_type": "code",
   "execution_count": 2,
   "metadata": {},
   "outputs": [
    {
     "name": "stdout",
     "output_type": "stream",
     "text": [
      "Welcome to JupyROOT 6.16/00\n",
      "\n"
     ]
    }
   ],
   "source": [
    "import ROOT\n",
    "## %jsroot on"
   ]
  },
  {
   "cell_type": "markdown",
   "metadata": {},
   "source": [
    "Next we open the data file."
   ]
  },
  {
   "cell_type": "code",
   "execution_count": 5,
   "metadata": {},
   "outputs": [
    {
     "name": "stdout",
     "output_type": "stream",
     "text": [
      "Opened file with name  http://opendata.atlas.cern/release/samples/MC/mc_147770.Zee.root\n"
     ]
    }
   ],
   "source": [
    "f = ROOT.TFile.Open(\"http://opendata.atlas.cern/release/samples/MC/mc_147770.Zee.root\")\n",
    "#f = ROOT.TFile.Open(\"http://opendata.atlas.cern/release/samples/MC/mc_105987.WZ.root\")\n",
    "print \"Opened file with name \", f.GetName()"
   ]
  },
  {
   "cell_type": "markdown",
   "metadata": {},
   "source": [
    "After the data is opened we create the canvas on which we we draw the histogram."
   ]
  },
  {
   "cell_type": "code",
   "execution_count": 6,
   "metadata": {},
   "outputs": [],
   "source": [
    "canvas = ROOT.TCanvas(\"Canvas\",\"my canvas\",800,600)"
   ]
  },
  {
   "cell_type": "markdown",
   "metadata": {},
   "source": [
    "The next step is to define the tree to get the data out of the _*.root_ file."
   ]
  },
  {
   "cell_type": "code",
   "execution_count": 7,
   "metadata": {},
   "outputs": [],
   "source": [
    "tree = f.Get(\"mini\")"
   ]
  },
  {
   "cell_type": "markdown",
   "metadata": {},
   "source": [
    "Now we define the first histogram. Again we start by looking at the number of leptons."
   ]
  },
  {
   "cell_type": "code",
   "execution_count": 8,
   "metadata": {},
   "outputs": [],
   "source": [
    "hist_no_lep = ROOT.TH1F(\"no_lep\",\"Number of leptons\",6,-0.5,5.5)"
   ]
  },
  {
   "cell_type": "markdown",
   "metadata": {},
   "source": [
    "Now we loop through the events in the tree. Remember, if you want to loop through _all_ events, then _comment out_ the line that contains the word **break** in it by inserting a hash (#) at the beginning of that line.\n",
    "This time we have implemented a few basic _event selections_ that select only a subset of events. These are tailored to select Z->ee or Z->mumu events. That is, we want:\n",
    "1. At least 2 leptons in the event.\n",
    "2. The first 2 leptons are of the same family.\n",
    "3. The first 2 leptons have opposite charges."
   ]
  },
  {
   "cell_type": "code",
   "execution_count": 9,
   "metadata": {},
   "outputs": [
    {
     "name": "stdout",
     "output_type": "stream",
     "text": [
      "number of total events to loop over:  7500000\n",
      "at event number  0\n",
      "at event number  1000000\n",
      "Done!\n",
      "looped over  1000002 events.\n"
     ]
    }
   ],
   "source": [
    "print \"number of total events to loop over: \", tree.GetEntries()\n",
    "\n",
    "count = 0\n",
    "for i in range(tree.GetEntries()):\n",
    "    if i >= 1000000: break # use this line to test the loop: this line will make the loop run only over the first 1 million events.\n",
    "    if i%1000000 == 0: print \"at event number \", i # this is so we know where we are as the loop can take a while to execute.\n",
    "    tree.GetEntry(i)\n",
    "    count += 1\n",
    "    \n",
    "    #1st cut\n",
    "    if tree.lep_n >= 2:\n",
    "        # 2nd cut\n",
    "        if tree.lep_type[0] == tree.lep_type[1]:\n",
    "            #3rd cut\n",
    "            if not tree.lep_charge[0] == tree.lep_charge[1]:\n",
    "                #now we fill the histogram for all events that meet the 3 criteria, or \"pass the cuts\".\n",
    "                hist_no_lep.Fill(tree.lep_n)\n",
    "    \n",
    "print \"Done!\"\n",
    "print \"looped over \", count, \"events.\""
   ]
  },
  {
   "cell_type": "markdown",
   "metadata": {},
   "source": [
    "After filling the histogram we want to see the results of the analysis. First we draw the histogram on the canvas and then the canvas on which the histogram lies."
   ]
  },
  {
   "cell_type": "code",
   "execution_count": 10,
   "metadata": {},
   "outputs": [],
   "source": [
    "hist_no_lep.Draw()"
   ]
  },
  {
   "cell_type": "code",
   "execution_count": 11,
   "metadata": {
    "scrolled": false
   },
   "outputs": [
    {
     "data": {
      "image/png": "[encoded data removed]",
      "text/plain": [
       "<IPython.core.display.Image object>"
      ]
     },
     "metadata": {},
     "output_type": "display_data"
    }
   ],
   "source": [
    "canvas.Draw()"
   ]
  },
  {
   "cell_type": "markdown",
   "metadata": {},
   "source": [
    "Now we take the same histogram and scale the entries in each bin so that the sum of entries equal 1. This makes it easier to see how large the fraction or percentage of the occurance of a given value is. For example, if the bin with central bin value 1 has 0.45 bin entries, then we know that 45% of our events contain 1 lepton.  "
   ]
  },
  {
   "cell_type": "code",
   "execution_count": 21,
   "metadata": {},
   "outputs": [],
   "source": [
    "scale = hist_no_lep.Integral()\n",
    "hist_no_lep.Scale(1/scale)"
   ]
  },
  {
   "cell_type": "code",
   "execution_count": 22,
   "metadata": {},
   "outputs": [],
   "source": [
    "hist_no_lep.Draw()"
   ]
  },
  {
   "cell_type": "code",
   "execution_count": 24,
   "metadata": {},
   "outputs": [
    {
     "data": {
      "image/png": "[encoded data removed]",
      "text/plain": [
       "<IPython.core.display.Image object>"
      ]
     },
     "metadata": {},
     "output_type": "display_data"
    }
   ],
   "source": [
    "canvas.Draw()"
   ]
  },
  {
   "cell_type": "code",
   "execution_count": null,
   "metadata": {},
   "outputs": [],
   "source": []
  }
 ],
 "metadata": {
  "kernelspec": {
   "display_name": "Python 2",
   "language": "python",
   "name": "python2"
  },
  "language_info": {
   "codemirror_mode": {
    "name": "ipython",
    "version": 2
   },
   "file_extension": ".py",
   "mimetype": "text/x-python",
   "name": "python",
   "nbconvert_exporter": "python",
   "pygments_lexer": "ipython2",
   "version": "2.7.15"
  }
 },
 "nbformat": 4,
 "nbformat_minor": 2
}
