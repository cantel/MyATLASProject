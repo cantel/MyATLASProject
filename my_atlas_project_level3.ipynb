{
 "cells": [
  {
   "cell_type": "markdown",
   "metadata": {},
   "source": [
    "<CENTER>\n",
    "    <a href=\"http://opendata.atlas.cern\" class=\"icons\"><img src=\"../images/opendata-top-transblack.png\" style=\"width:40%\"></a>\n",
    "</CENTER>"
   ]
  },
  {
   "cell_type": "markdown",
   "metadata": {},
   "source": [
    "# A simple introduction to data analysis in ATLAS: Level 3\n",
    "Now you know how to apply cuts and fill histograms. In **Level 3** we will work with two different data sets, as we want to **compare the data** in them."
   ]
  },
  {
   "cell_type": "markdown",
   "metadata": {},
   "source": [
    "First we import ROOT to read the files in the _.root_ data format.\n",
    "In order to activate the interactive visualisation of the histogram that is later created we can use the JSROOT magic activated in the second line."
   ]
  },
  {
   "cell_type": "code",
   "execution_count": 1,
   "metadata": {},
   "outputs": [
    {
     "name": "stdout",
     "output_type": "stream",
     "text": [
      "Welcome to JupyROOT 6.16/00\n"
     ]
    }
   ],
   "source": [
    "import ROOT\n",
    "## %jsroot on"
   ]
  },
  {
   "cell_type": "markdown",
   "metadata": {},
   "source": [
    "Next we open two data file. We call the one \"signal_file\" and the other \"background_file\". The ultimate aim is to apply _the same_ cuts on each dataset, and keep as many signal events as we can whilst cutting away as many background events as we can."
   ]
  },
  {
   "cell_type": "code",
   "execution_count": 2,
   "metadata": {},
   "outputs": [
    {
     "name": "stdout",
     "output_type": "stream",
     "text": [
      "Opened signal file with name  http://opendata.atlas.cern/release/samples/MC/mc_147770.Zee.root\n",
      "Opened background file with name  http://opendata.atlas.cern/release/samples/MC/mc_105985.WW.root\n"
     ]
    }
   ],
   "source": [
    "signal_file = ROOT.TFile.Open(\"http://opendata.atlas.cern/release/samples/MC/mc_147770.Zee.root\")\n",
    "background_file = ROOT.TFile.Open(\"http://opendata.atlas.cern/release/samples/MC/mc_105985.WW.root\")\n",
    "#f = ROOT.TFile.Open(\"http://opendata.atlas.cern/release/samples/MC/mc_105987.WZ.root\")\n",
    "print \"Opened signal file with name \", signal_file.GetName()\n",
    "print \"Opened background file with name \", background_file.GetName()"
   ]
  },
  {
   "cell_type": "markdown",
   "metadata": {},
   "source": [
    "After the data is opened we create the canvas on which we we draw the final histogram."
   ]
  },
  {
   "cell_type": "code",
   "execution_count": 3,
   "metadata": {},
   "outputs": [],
   "source": [
    "canvas = ROOT.TCanvas(\"Canvas\",\"my canvas\",800,600)"
   ]
  },
  {
   "cell_type": "markdown",
   "metadata": {},
   "source": [
    "Now we define a \"signal\" tree and a \"background\" tree."
   ]
  },
  {
   "cell_type": "code",
   "execution_count": 4,
   "metadata": {},
   "outputs": [],
   "source": [
    "signal = signal_file.Get(\"mini\")\n",
    "background = background_file.Get(\"mini\")"
   ]
  },
  {
   "cell_type": "markdown",
   "metadata": {},
   "source": [
    "Now we define histograms: one for signal and one for background events. Again we start by looking at the number of leptons."
   ]
  },
  {
   "cell_type": "code",
   "execution_count": 5,
   "metadata": {},
   "outputs": [],
   "source": [
    "signal_hist_no_lep = ROOT.TH1F(\"signal no_lep\",\"Number of leptons\",6,-0.5,5.5)\n",
    "background_hist_no_lep = ROOT.TH1F(\"background no_lep\",\"Number of leptons\",6,-0.5,5.5)"
   ]
  },
  {
   "cell_type": "markdown",
   "metadata": {},
   "source": [
    "Now we loop through the events in each dataset and apply basic cuts. Remember, if you want to loop through _all_ events, then _comment out_ the line that contains the word **break** in it by inserting a hash (#) at the beginning of that line.\n",
    "The cuts are again tailored to select Z->ee or Z->mumu events. That is, we want:\n",
    "1. At least 2 leptons in the event.\n",
    "2. The first 2 leptons are of the same family.\n",
    "3. The first 2 leptons have opposite charges.\n",
    "We start with signal events."
   ]
  },
  {
   "cell_type": "code",
   "execution_count": 7,
   "metadata": {},
   "outputs": [
    {
     "name": "stdout",
     "output_type": "stream",
     "text": [
      "number of total signal events to loop over:  7500000\n",
      "at event number  0\n",
      "at event number  1000000\n",
      "Done!\n",
      "looped over  1000001  signal events.\n"
     ]
    }
   ],
   "source": [
    "#signal\n",
    "print \"number of total signal events to loop over: \", signal.GetEntries()\n",
    "\n",
    "count = 0\n",
    "for i in range(signal.GetEntries()):\n",
    "    if i >= 1000000: break # use this line to test the loop: this line will make the loop run only over the first 1 million events.\n",
    "    if i%1000000 == 0: print \"at event number \", i # this is so we know where we are as the loop can take a while to execute.\n",
    "    signal.GetEntry(i)\n",
    "    count += 1\n",
    "    \n",
    "    #1st cut\n",
    "    if signal.lep_n >= 2:\n",
    "        # 2nd cut\n",
    "        if signal.lep_type[0] == signal.lep_type[1]:\n",
    "            #3rd cut\n",
    "            if not signal.lep_charge[0] == signal.lep_charge[1]:\n",
    "                #now we fill the histogram for all events that meet the 3 criteria, or \"pass the cuts\".\n",
    "                signal_hist_no_lep.Fill(signal.lep_n)\n",
    "    \n",
    "print \"Done!\"\n",
    "print \"looped over \", count, \" signal events.\""
   ]
  },
  {
   "cell_type": "code",
   "execution_count": 8,
   "metadata": {},
   "outputs": [
    {
     "name": "stdout",
     "output_type": "stream",
     "text": [
      "number of total background events to loop over:  7500000\n",
      "at event number  0\n",
      "Done!\n",
      "looped over  500000  background events.\n"
     ]
    }
   ],
   "source": [
    "#background\n",
    "print \"number of total background events to loop over: \", background.GetEntries()\n",
    "\n",
    "count = 0\n",
    "for i in range(background.GetEntries()):\n",
    "    if i >= 1000000: break # use this line to test the loop: this line will make the loop run only over the first 1 million events.\n",
    "    if i%1000000 == 0: print \"at event number \", i # this is so we know where we are as the loop can take a while to execute.\n",
    "    background.GetEntry(i)\n",
    "    count += 1\n",
    "    \n",
    "    #1st cut\n",
    "    if background.lep_n >= 2:\n",
    "        # 2nd cut\n",
    "        if background.lep_type[0] == background.lep_type[1]:\n",
    "            #3rd cut\n",
    "            if not background.lep_charge[0] == background.lep_charge[1]:\n",
    "                #now we fill the histogram for all events that meet the 3 criteria, or \"pass the cuts\".\n",
    "                background_hist_no_lep.Fill(background.lep_n)\n",
    "    \n",
    "print \"Done!\"\n",
    "print \"looped over \", count, \" background events.\""
   ]
  },
  {
   "cell_type": "markdown",
   "metadata": {},
   "source": [
    "After filling all histogram we want to see the results of the analysis. This time we want to see the histograms filled with signal events overlaid with histograms filled with background events. It is therefore important to set a different for each histogram. We choose red for signal and blue for background. The magic word when drawing the histograms is \"SAME\"!"
   ]
  },
  {
   "cell_type": "code",
   "execution_count": 21,
   "metadata": {},
   "outputs": [],
   "source": [
    "#signal is red\n",
    "signal_hist_no_lep.SetLineColor(ROOT.kRed)\n",
    "signal_hist_no_lep.SetLineWidth(2) # making line thicker so we can see it better\n",
    "signal_hist_no_lep.Draw()\n",
    "#background is blue\n",
    "background_hist_no_lep.SetLineColor(ROOT.kBlue)\n",
    "background_hist_no_lep.SetLineWidth(2) # making line thicker so we can see it better\n",
    "background_hist_no_lep.Draw(\"SAME\")"
   ]
  },
  {
   "cell_type": "code",
   "execution_count": 22,
   "metadata": {
    "scrolled": false
   },
   "outputs": [
    {
     "data": {
      "image/png": "[encoded data removed]",
      "text/plain": [
       "<IPython.core.display.Image object>"
      ]
     },
     "metadata": {},
     "output_type": "display_data"
    }
   ],
   "source": [
    "canvas.Draw()"
   ]
  },
  {
   "cell_type": "markdown",
   "metadata": {},
   "source": [
    "Now we take the same histogram and scale the entries in each bin so that the sum of entries equal 1. This makes it easier to see how large the fraction or percentage of the occurance of a given value is. For example, if the bin with central bin value 1 has 0.45 bin entries, then we know that 45% of our events contain 1 lepton.  "
   ]
  },
  {
   "cell_type": "code",
   "execution_count": 18,
   "metadata": {},
   "outputs": [],
   "source": [
    "#signal\n",
    "scale = signal_hist_no_lep.Integral()\n",
    "signal_hist_no_lep.Scale(1/scale)\n",
    "#background\n",
    "scale = background_hist_no_lep.Integral()\n",
    "background_hist_no_lep.Scale(1/scale)"
   ]
  },
  {
   "cell_type": "code",
   "execution_count": 19,
   "metadata": {},
   "outputs": [],
   "source": [
    "#signal\n",
    "signal_hist_no_lep.Draw()\n",
    "#background\n",
    "background_hist_no_lep.Draw(\"SAME\")"
   ]
  },
  {
   "cell_type": "code",
   "execution_count": 20,
   "metadata": {},
   "outputs": [
    {
     "data": {
      "image/png": "[encoded data removed]",
      "text/plain": [
       "<IPython.core.display.Image object>"
      ]
     },
     "metadata": {},
     "output_type": "display_data"
    }
   ],
   "source": [
    "canvas.Draw()"
   ]
  },
  {
   "cell_type": "code",
   "execution_count": null,
   "metadata": {},
   "outputs": [],
   "source": []
  }
 ],
 "metadata": {
  "kernelspec": {
   "display_name": "Python 2",
   "language": "python",
   "name": "python2"
  },
  "language_info": {
   "codemirror_mode": {
    "name": "ipython",
    "version": 2
   },
   "file_extension": ".py",
   "mimetype": "text/x-python",
   "name": "python",
   "nbconvert_exporter": "python",
   "pygments_lexer": "ipython2",
   "version": "2.7.15"
  }
 },
 "nbformat": 4,
 "nbformat_minor": 2
}
